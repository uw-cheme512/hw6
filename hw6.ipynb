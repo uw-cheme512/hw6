{
 "cells": [
  {
   "cell_type": "markdown",
   "metadata": {},
   "source": [
    "#### Problem 1 (Morbidelli 8.1)\n",
    "\n",
    "Prove the following results:\n",
    "\n",
    "1. $\\mathscr{L}\\{cos{(at)}\\} = \\frac{s}{s^2 + a^2}$\n",
    "2. $\\mathscr{L}\\{sinh{(at)}\\} = \\frac{a}{s^2 - a^2}$\n",
    "3. $\\mathscr{L}\\{cosh{(at)}\\} = \\frac{s}{s^2 - a^2}$\n",
    "4. $\\mathscr{L}\\{t^n\\} = \\frac{n!}{s^{(n+1)}}$"
   ]
  },
  {
   "cell_type": "markdown",
   "metadata": {},
   "source": [
    "#### Problem 2 (Morbidelli 8.5)\n",
    "\n",
    "Solve by LaPlace transform:\n",
    "\n",
    "$$y''+ y' -2y = 3\\cos{3t} - 11\\sin{3t}, y(0) = 0, y'(0) = 6 $$\n",
    "\n"
   ]
  },
  {
   "cell_type": "markdown",
   "metadata": {},
   "source": [
    "#### Problem 3 (Morbidelli 8.9 modified)\n",
    "\n",
    "Solve by LaPlace transform the system of ODEs:\n",
    "\n",
    "$$y_1'' + y_1' + 2y_2' - y_1 = 1 $$\n",
    "$$y_2''' + y_1'' - 2y_1 + y_2 = e^{-t} $$\n",
    "$$y_1(0) = 2, y_1'(0) = 0, y_2(0) = 2, y_2'(0) = 0, y_2'''(0) = 1 $$\n",
    "\n",
    "Rather than solving completely just find the matrix representation in the LaPlace domain."
   ]
  },
  {
   "cell_type": "markdown",
   "metadata": {},
   "source": [
    "**Problem 4 (Morbidelli 8.10 modified)**\n",
    "\n",
    "Solve the diffusion-reaction problem given by (8.6.1) and (8.6.2) in the case where the non-homogeneous term is given by $f(t) = e^{-t}$. Also identify the impulse response.\n",
    "\n",
    "$$D \\frac{\\partial^2 c}{\\partial x^2} + f(t) = \\frac{\\partial c}{\\partial t}, x \\in (0, L), t>0, c(x, 0)=0, c(0,t)=0, c(L,t)=0 $$\n",
    "\n",
    "**Plot the final solution**."
   ]
  },
  {
   "cell_type": "markdown",
   "metadata": {},
   "source": [
    "#### Problem 5  (Morbidelli 8.12 modified) \n",
    "\n",
    "Consider the transient heat conduction problem in a one-dimensional rod with no internal heat generation:\n",
    "\n",
    "$$\\frac{a}{\\kappa} \\frac{\\partial T}{\\partial t} = \\frac{\\partial^2 T}{\\partial x^2} - u^2 T $$\n",
    "\n",
    "with the boundary/initial conditions:\n",
    "\n",
    "$$T(0, t) = T_0 $$\n",
    "$$\\frac{\\partial T}{\\partial x}(L, t) = 0 $$\n",
    "$$T(x, 0) = 0 $$\n",
    "\n",
    "Instead of completely solving the problem using LaPlace transforms (which is actually quite a difficult task), just find the solution in the LaPlace domain without performing the reverse transform. Remember to solve for the coefficients using the BCs and ICs too. This is to demonstrate how LaPlace transforms theoretically can simplify a PDE to an ODE, but with the caveat that you may be stuck with a **really** ugly time transforming the solution back to the time domain."
   ]
  },
  {
   "cell_type": "markdown",
   "metadata": {},
   "source": [
    "#### Problem 6 (Morbidelli 8.15)\n",
    "\n",
    "Consider the axial dispersion of a tracer in an empty tube:\n",
    "\n",
    "$$-\\frac{1}{Pe} \\frac{\\partial ^2 u}{\\partial x^2} + \\frac{\\partial u}{\\partial x} + \\frac{\\partial u}{\\partial t} = 0, 0 < x< 1, t>0, u(x,0)=0, u(0,t)=\\delta (t), u(\\infty,t)=finite$$\n",
    "\n",
    "Determine the average residence time and variance of the tracer concentration distribution at the tube outlet."
   ]
  },
  {
   "cell_type": "code",
   "execution_count": null,
   "metadata": {},
   "outputs": [],
   "source": []
  }
 ],
 "metadata": {
  "kernelspec": {
   "display_name": "Python 3",
   "language": "python",
   "name": "python3"
  },
  "language_info": {
   "codemirror_mode": {
    "name": "ipython",
    "version": 3
   },
   "file_extension": ".py",
   "mimetype": "text/x-python",
   "name": "python",
   "nbconvert_exporter": "python",
   "pygments_lexer": "ipython3",
   "version": "3.7.2"
  }
 },
 "nbformat": 4,
 "nbformat_minor": 2
}
