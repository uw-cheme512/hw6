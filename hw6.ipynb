{
 "cells": [
  {
   "cell_type": "markdown",
   "metadata": {},
   "source": [
    "#### Problem 1 (Morbidelli 7.1, modified)\n",
    "\n",
    "Repeat the transient heat conduction problem of section 7.1, for the BCs of type (i,j), where i, j = 1 $\\rightarrow$ 3\n",
    "\n",
    "| BC at x=0 =========== | Type | BC at x=L ===========    |\n",
    "| --------------- | ---- | --------------- |\n",
    "| $T=0$       | 1    | $T=0$       |\n",
    "| $\\frac{dT}{dx}=0$       | 2    | $\\frac{dT}{dx}=0$       |\n",
    "| $-\\frac{dT}{dx}+\\alpha T=0$      | 3    | $-\\frac{dT}{dx}+\\alpha T=0$     |\n",
    "\n",
    "The problem takes the form:\n",
    "\n",
    "$$\\frac{\\partial^2 T}{\\partial x^2} - U^2T + f(x) = \\frac{1}{\\kappa}\\frac{\\partial T}{\\partial t} $$\n",
    "\n",
    "**Plot using $f(x) = \\frac{20}{L}x$ and $q(x) = 20$.**"
   ]
  },
  {
   "cell_type": "markdown",
   "metadata": {},
   "source": [
    "#### Problem 2 (Morbidelli 7.6 modified)"
   ]
  },
  {
   "cell_type": "markdown",
   "metadata": {},
   "source": [
    "Solve the following Poisson equation in a rectangle:\n",
    "\n",
    "$$\\frac{\\partial^2 u}{\\partial x^2} + \\frac{\\partial^2 u}{\\partial y^2} = y(1-y)\\sin^3{x}; 0<x<1, 0<y<1$$\n",
    "\n",
    "along with the BCs:\n",
    "\n",
    "$$u(x,0) = 0 $$ <br>\n",
    "$$u(x,1) = 0 $$ <br>\n",
    "$$u(0,y) = 0 $$ <br>\n",
    "$$u(1,y) = 0 $$ <br>\n",
    "\n",
    "**Plot the resulting function**"
   ]
  },
  {
   "cell_type": "markdown",
   "metadata": {},
   "source": [
    "#### Extra Credit (Morbidelli 7.3)\n",
    "\n",
    "Solve for the transient concentration distribution for an isothermal first-order reaction occuring in a slab catalyst pellet of half-thickness L with no external mass transfer limitations. The initial distribution of reactant concentration in the pellet is $C_0(x)$. Also compute a formula for the transient effectiveness factor $\\eta (t)$. Finally, for $C_0(x)=0$ plot $\\eta(t)$ versus $t$ for the Thiele modulus $\\psi = 1,2,5$ showing the approach to the steady state."
   ]
  },
  {
   "cell_type": "code",
   "execution_count": null,
   "metadata": {},
   "outputs": [],
   "source": []
  }
 ],
 "metadata": {
  "kernelspec": {
   "display_name": "Python 3",
   "language": "python",
   "name": "python3"
  },
  "language_info": {
   "codemirror_mode": {
    "name": "ipython",
    "version": 3
   },
   "file_extension": ".py",
   "mimetype": "text/x-python",
   "name": "python",
   "nbconvert_exporter": "python",
   "pygments_lexer": "ipython3",
   "version": "3.7.2"
  }
 },
 "nbformat": 4,
 "nbformat_minor": 2
}
